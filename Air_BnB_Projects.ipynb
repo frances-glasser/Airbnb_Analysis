{
 "cells": [
  {
   "cell_type": "markdown",
   "metadata": {},
   "source": [
    "# Air BnB Data Project:\n",
    "1. Merge, clean and manipulate the data.\n",
    "2. Identify at least three business questions regarding visitor behavior (one must include age).\n",
    "3. Use any tools at you disposal to create appropriate visualizations of the data to answer the questions.\n",
    "4. Articulate conclusions and recommendations based on your analysis.\n",
    "5. Provide your results in a presentation (PowerPoint or Google slides).  Make sure the presentation is clean and ready to present to Sr. Management."
   ]
  },
  {
   "cell_type": "code",
   "execution_count": 3,
   "metadata": {},
   "outputs": [],
   "source": [
    "import pandas as pd\n",
    "import numpy as np\n",
    "import matplotlib.pyplot as plt\n",
    "import seaborn as sns\n",
    "airbnb1 = pd.read_excel(r\"AirBnBsampleage (1).xlsx\", usecols=['Visitor_id', 'Age (years)'])\n",
    "airbnb2 = pd.read_csv(r\"airbnb_session_data (1).txt\", delimiter='|')"
   ]
  },
  {
   "cell_type": "markdown",
   "metadata": {},
   "source": [
    "# Merging Datasets 1 and 2"
   ]
  },
  {
   "cell_type": "code",
   "execution_count": 4,
   "metadata": {},
   "outputs": [
    {
     "name": "stdout",
     "output_type": "stream",
     "text": [
      "Small Data:  (630, 2) Big Data :  (7756, 21)\n"
     ]
    }
   ],
   "source": [
    "airbnb1.rename(columns={'Visitor_id': 'id_visitor'}, inplace=True) #make Visitor Id into id_visitor so I can merge with airbnb data 2 on visitor id.\n",
    "print('Small Data: ', airbnb1.shape, 'Big Data : ', airbnb2.shape)"
   ]
  },
  {
   "cell_type": "code",
   "execution_count": 5,
   "metadata": {},
   "outputs": [
    {
     "name": "stdout",
     "output_type": "stream",
     "text": [
      "Small Data # of IDs:  630\n",
      "Big Data # of IDs : 630\n"
     ]
    }
   ],
   "source": [
    "print('Small Data # of IDs: ', airbnb1['id_visitor'].nunique())\n",
    "print('Big Data # of IDs :', airbnb2['id_visitor'].nunique())"
   ]
  },
  {
   "cell_type": "markdown",
   "metadata": {},
   "source": [
    "--> Great! having the same number of unique ID's means we can do a one to many match merge on ID where the age of that ID (airbnb account) can be filled into the observations of the big data set."
   ]
  },
  {
   "cell_type": "code",
   "execution_count": 6,
   "metadata": {},
   "outputs": [
    {
     "name": "stdout",
     "output_type": "stream",
     "text": [
      "Small Data Missing:  id_visitor     0\n",
      "Age (years)    0\n",
      "dtype: int64\n",
      "Big Data Missing: id_visitor                     0\n",
      "id_session                     0\n",
      "dim_session_number             0\n",
      "dim_user_agent               219\n",
      "dim_device_app_combo           0\n",
      "ds                             0\n",
      "ts_min                         0\n",
      "ts_max                         0\n",
      "did_search                     0\n",
      "sent_message                   0\n",
      "sent_booking_request           0\n",
      "next_id_session              630\n",
      "next_dim_session_number      630\n",
      "next_dim_user_agent          829\n",
      "next_dim_device_app_combo    630\n",
      "next_ds                      630\n",
      "next_ts_min                  630\n",
      "next_ts_max                  630\n",
      "next_did_search              630\n",
      "next_sent_message            630\n",
      "next_sent_booking_request    630\n",
      "dtype: int64\n"
     ]
    }
   ],
   "source": [
    "print('Small Data Missing: ', airbnb1.isnull().sum())\n",
    "print('Big Data Missing:', airbnb2.isnull().sum())"
   ]
  },
  {
   "cell_type": "markdown",
   "metadata": {},
   "source": [
    "--> The columns for id's in the large dataset that begin with 'next_' are consistently null so instead of imputing a value (i dont have enough data to make a mean or median or the data from the data dictionary) I will drop these values.\n",
    "\n",
    "--> I need to keep track of null values during the merge to make sure the datasets joined correctly"
   ]
  },
  {
   "cell_type": "code",
   "execution_count": 7,
   "metadata": {},
   "outputs": [
    {
     "data": {
      "text/plain": [
       "id_visitor                0\n",
       "id_session                0\n",
       "dim_session_number        0\n",
       "dim_user_agent          219\n",
       "dim_device_app_combo      0\n",
       "ds                        0\n",
       "ts_min                    0\n",
       "ts_max                    0\n",
       "did_search                0\n",
       "sent_message              0\n",
       "sent_booking_request      0\n",
       "dtype: int64"
      ]
     },
     "execution_count": 7,
     "metadata": {},
     "output_type": "execute_result"
    }
   ],
   "source": [
    "airbnb2_column_names = airbnb2.columns #list of column names\n",
    "drop_cols = [] #list i will append unwanted columns\n",
    "\n",
    "for i in airbnb2_column_names:\n",
    "    if 'next_' in i:\n",
    "        drop_cols.append(i)\n",
    "\n",
    "airbnb2.drop(columns=drop_cols, axis=1, inplace= True)\n",
    "airbnb2.isnull().sum()"
   ]
  },
  {
   "cell_type": "code",
   "execution_count": 8,
   "metadata": {},
   "outputs": [
    {
     "data": {
      "text/plain": [
       "(7756, 12)"
      ]
     },
     "execution_count": 8,
     "metadata": {},
     "output_type": "execute_result"
    }
   ],
   "source": [
    "jointdf = pd.merge(airbnb1, airbnb2, on= 'id_visitor', how = 'right')\n",
    "jointdf.shape"
   ]
  },
  {
   "cell_type": "code",
   "execution_count": 9,
   "metadata": {},
   "outputs": [
    {
     "data": {
      "text/plain": [
       "id_visitor                   0\n",
       "Age (years)                  0\n",
       "id_session                   0\n",
       "dim_session_number           0\n",
       "dim_user_agent             219\n",
       "dim_device_app_combo         0\n",
       "ds                           0\n",
       "ts_min                       0\n",
       "ts_max                       0\n",
       "did_search                   0\n",
       "sent_message                 0\n",
       "sent_booking_request         0\n",
       "Booking Requests Per ID      0\n",
       "dtype: int64"
      ]
     },
     "execution_count": 9,
     "metadata": {},
     "output_type": "execute_result"
    }
   ],
   "source": [
    "jointdf.drop_duplicates(inplace=True)\n",
    "jointdf['Booking Requests Per ID'] = jointdf.groupby('id_visitor')['sent_booking_request'].transform('sum')\n",
    "jointdf.isnull().sum()"
   ]
  },
  {
   "cell_type": "markdown",
   "metadata": {},
   "source": [
    "# Finding Insights into the Data"
   ]
  },
  {
   "cell_type": "markdown",
   "metadata": {},
   "source": [
    "**Ideas of helpful insights**\n",
    "* compare the use of phones, chrome, and other extensions: number of successes (booking) compared to number of fails (visits without booking)\n",
    "* shorted the dataset to profiles (630) with profile statistics --> predict who is most likely to book (odds, then use a percentile cut off for who we should send discount emails too..example if the odds of a profile booking are between 0.7 and 0.8 then we can give a discount code to push them into purchasing.)\n",
    "* histogram of profiles: Age Distribution (x) booking total(y)\n",
    "* create varibale of # of visits before booking (how long before they make a dicision?)\n",
    "* create variable of # of visits after booking (make a text reminder (option for multiple phones)/email reminder of bnb info to stop web traffic/ease anxiety)\n",
    "* average session length per age? \n",
    "* Average profile website visiting time: more time = bookings?"
   ]
  },
  {
   "cell_type": "code",
   "execution_count": 10,
   "metadata": {},
   "outputs": [],
   "source": [
    "#Calculating site time per observation\n",
    "jointdf['ts_min'] = pd.to_datetime(jointdf['ts_min'])\n",
    "jointdf['ts_max'] = pd.to_datetime(jointdf['ts_max'])\n",
    "jointdf['Site Visit']= (jointdf['ts_max'] - jointdf['ts_min']).dt.total_seconds()\n",
    "\n",
    "#Aggragating new profile variables to the joindf\n",
    "jointdf['Average Site Visit'] = jointdf.groupby('id_visitor')['Site Visit'].transform(\"mean\")"
   ]
  },
  {
   "cell_type": "code",
   "execution_count": 11,
   "metadata": {},
   "outputs": [
    {
     "data": {
      "text/html": [
       "<div>\n",
       "<style scoped>\n",
       "    .dataframe tbody tr th:only-of-type {\n",
       "        vertical-align: middle;\n",
       "    }\n",
       "\n",
       "    .dataframe tbody tr th {\n",
       "        vertical-align: top;\n",
       "    }\n",
       "\n",
       "    .dataframe thead th {\n",
       "        text-align: right;\n",
       "    }\n",
       "</style>\n",
       "<table border=\"1\" class=\"dataframe\">\n",
       "  <thead>\n",
       "    <tr style=\"text-align: right;\">\n",
       "      <th></th>\n",
       "      <th>id_visitor</th>\n",
       "      <th>Age (years)</th>\n",
       "      <th>id_session</th>\n",
       "      <th>dim_session_number</th>\n",
       "      <th>dim_user_agent</th>\n",
       "      <th>dim_device_app_combo</th>\n",
       "      <th>ds</th>\n",
       "      <th>ts_min</th>\n",
       "      <th>ts_max</th>\n",
       "      <th>did_search</th>\n",
       "      <th>sent_message</th>\n",
       "      <th>sent_booking_request</th>\n",
       "      <th>Booking Requests Per ID</th>\n",
       "      <th>Site Visit</th>\n",
       "      <th>Average Site Visit</th>\n",
       "      <th>Device Type</th>\n",
       "    </tr>\n",
       "  </thead>\n",
       "  <tbody>\n",
       "    <tr>\n",
       "      <th>0</th>\n",
       "      <td>ed1329a6-064d-47e9-93bc-93f5a50822df</td>\n",
       "      <td>22.87052</td>\n",
       "      <td>a8dfb8ed5aa79e00ff14b2da297c9778</td>\n",
       "      <td>83</td>\n",
       "      <td>Airbnb/6.0 iPhone/8.1.2</td>\n",
       "      <td>iPhone - iOS</td>\n",
       "      <td>2015-02-16</td>\n",
       "      <td>2015-02-16 21:50:41</td>\n",
       "      <td>2015-02-16 22:13:42</td>\n",
       "      <td>0</td>\n",
       "      <td>0</td>\n",
       "      <td>0</td>\n",
       "      <td>15</td>\n",
       "      <td>1381.0</td>\n",
       "      <td>996.741573</td>\n",
       "      <td>iPhone</td>\n",
       "    </tr>\n",
       "    <tr>\n",
       "      <th>1</th>\n",
       "      <td>ed1329a6-064d-47e9-93bc-93f5a50822df</td>\n",
       "      <td>22.87052</td>\n",
       "      <td>950277daef16f86dc2c05d2b212eea81</td>\n",
       "      <td>84</td>\n",
       "      <td>Mozilla/5.0 (Windows NT 6.1; WOW64) AppleWebKi...</td>\n",
       "      <td>Desktop - Chrome</td>\n",
       "      <td>2015-02-18</td>\n",
       "      <td>2015-02-18 11:57:15</td>\n",
       "      <td>2015-02-18 12:12:48</td>\n",
       "      <td>0</td>\n",
       "      <td>0</td>\n",
       "      <td>0</td>\n",
       "      <td>15</td>\n",
       "      <td>933.0</td>\n",
       "      <td>996.741573</td>\n",
       "      <td>Desktop</td>\n",
       "    </tr>\n",
       "    <tr>\n",
       "      <th>2</th>\n",
       "      <td>ed1329a6-064d-47e9-93bc-93f5a50822df</td>\n",
       "      <td>22.87052</td>\n",
       "      <td>ee4e2f99dd0c0bef2d40e4bdf880c862</td>\n",
       "      <td>85</td>\n",
       "      <td>Mozilla/5.0 (Windows NT 6.1; WOW64) AppleWebKi...</td>\n",
       "      <td>Desktop - Chrome</td>\n",
       "      <td>2015-02-18</td>\n",
       "      <td>2015-02-18 13:02:13</td>\n",
       "      <td>2015-02-18 13:05:36</td>\n",
       "      <td>0</td>\n",
       "      <td>0</td>\n",
       "      <td>0</td>\n",
       "      <td>15</td>\n",
       "      <td>203.0</td>\n",
       "      <td>996.741573</td>\n",
       "      <td>Desktop</td>\n",
       "    </tr>\n",
       "    <tr>\n",
       "      <th>3</th>\n",
       "      <td>ed1329a6-064d-47e9-93bc-93f5a50822df</td>\n",
       "      <td>22.87052</td>\n",
       "      <td>59fbde7b5d35403116c461fa7fc1ab6e</td>\n",
       "      <td>86</td>\n",
       "      <td>Mozilla/5.0 (Windows NT 6.1; WOW64) AppleWebKi...</td>\n",
       "      <td>Desktop - Chrome</td>\n",
       "      <td>2015-02-18</td>\n",
       "      <td>2015-02-18 14:18:17</td>\n",
       "      <td>2015-02-18 14:28:47</td>\n",
       "      <td>0</td>\n",
       "      <td>0</td>\n",
       "      <td>0</td>\n",
       "      <td>15</td>\n",
       "      <td>630.0</td>\n",
       "      <td>996.741573</td>\n",
       "      <td>Desktop</td>\n",
       "    </tr>\n",
       "    <tr>\n",
       "      <th>4</th>\n",
       "      <td>ed1329a6-064d-47e9-93bc-93f5a50822df</td>\n",
       "      <td>22.87052</td>\n",
       "      <td>ec8972a3c7256ea4dcba61ee2bd9e3a8</td>\n",
       "      <td>87</td>\n",
       "      <td>Mozilla/5.0 (Windows NT 6.1; WOW64) AppleWebKi...</td>\n",
       "      <td>Desktop - Chrome</td>\n",
       "      <td>2015-02-19</td>\n",
       "      <td>2015-02-19 12:24:57</td>\n",
       "      <td>2015-02-19 12:24:59</td>\n",
       "      <td>0</td>\n",
       "      <td>0</td>\n",
       "      <td>0</td>\n",
       "      <td>15</td>\n",
       "      <td>2.0</td>\n",
       "      <td>996.741573</td>\n",
       "      <td>Desktop</td>\n",
       "    </tr>\n",
       "  </tbody>\n",
       "</table>\n",
       "</div>"
      ],
      "text/plain": [
       "                             id_visitor  Age (years)  \\\n",
       "0  ed1329a6-064d-47e9-93bc-93f5a50822df     22.87052   \n",
       "1  ed1329a6-064d-47e9-93bc-93f5a50822df     22.87052   \n",
       "2  ed1329a6-064d-47e9-93bc-93f5a50822df     22.87052   \n",
       "3  ed1329a6-064d-47e9-93bc-93f5a50822df     22.87052   \n",
       "4  ed1329a6-064d-47e9-93bc-93f5a50822df     22.87052   \n",
       "\n",
       "                         id_session  dim_session_number  \\\n",
       "0  a8dfb8ed5aa79e00ff14b2da297c9778                  83   \n",
       "1  950277daef16f86dc2c05d2b212eea81                  84   \n",
       "2  ee4e2f99dd0c0bef2d40e4bdf880c862                  85   \n",
       "3  59fbde7b5d35403116c461fa7fc1ab6e                  86   \n",
       "4  ec8972a3c7256ea4dcba61ee2bd9e3a8                  87   \n",
       "\n",
       "                                      dim_user_agent dim_device_app_combo  \\\n",
       "0                            Airbnb/6.0 iPhone/8.1.2         iPhone - iOS   \n",
       "1  Mozilla/5.0 (Windows NT 6.1; WOW64) AppleWebKi...     Desktop - Chrome   \n",
       "2  Mozilla/5.0 (Windows NT 6.1; WOW64) AppleWebKi...     Desktop - Chrome   \n",
       "3  Mozilla/5.0 (Windows NT 6.1; WOW64) AppleWebKi...     Desktop - Chrome   \n",
       "4  Mozilla/5.0 (Windows NT 6.1; WOW64) AppleWebKi...     Desktop - Chrome   \n",
       "\n",
       "           ds              ts_min              ts_max  did_search  \\\n",
       "0  2015-02-16 2015-02-16 21:50:41 2015-02-16 22:13:42           0   \n",
       "1  2015-02-18 2015-02-18 11:57:15 2015-02-18 12:12:48           0   \n",
       "2  2015-02-18 2015-02-18 13:02:13 2015-02-18 13:05:36           0   \n",
       "3  2015-02-18 2015-02-18 14:18:17 2015-02-18 14:28:47           0   \n",
       "4  2015-02-19 2015-02-19 12:24:57 2015-02-19 12:24:59           0   \n",
       "\n",
       "   sent_message  sent_booking_request  Booking Requests Per ID  Site Visit  \\\n",
       "0             0                     0                       15      1381.0   \n",
       "1             0                     0                       15       933.0   \n",
       "2             0                     0                       15       203.0   \n",
       "3             0                     0                       15       630.0   \n",
       "4             0                     0                       15         2.0   \n",
       "\n",
       "   Average Site Visit Device Type  \n",
       "0          996.741573      iPhone  \n",
       "1          996.741573     Desktop  \n",
       "2          996.741573     Desktop  \n",
       "3          996.741573     Desktop  \n",
       "4          996.741573     Desktop  "
      ]
     },
     "execution_count": 11,
     "metadata": {},
     "output_type": "execute_result"
    }
   ],
   "source": [
    "list_device_type = []\n",
    "listid = []\n",
    "\n",
    "# Loop through DataFrame to classify devices\n",
    "for i, row in jointdf.iterrows():\n",
    "    if 'Desktop' in row['dim_device_app_combo']:\n",
    "        listid.append(row['id_session'])\n",
    "        list_device_type.append('Desktop')\n",
    "    \n",
    "    elif 'iPhone' in row['dim_device_app_combo']:\n",
    "        listid.append(row['id_session'])\n",
    "        list_device_type.append('iPhone')\n",
    "\n",
    "    # elif 'iPad' in row['dim_device_app_combo']:\n",
    "    #     listid.append(row['id_session'])\n",
    "    #     list_device_type.append('iPad')\n",
    "\n",
    "    elif 'Android' in row['dim_device_app_combo']:\n",
    "        listid.append(row['id_session'])\n",
    "        list_device_type.append('Android')\n",
    "    \n",
    "    else:\n",
    "        listid.append(row['id_session'])\n",
    "        list_device_type.append('Other')\n",
    "\n",
    "# Create a DataFrame from the lists\n",
    "tech_type = pd.DataFrame({'id_session': listid, 'Device Type': list_device_type})\n",
    "\n",
    "# Merge back with jointdf\n",
    "jointdf = pd.merge(jointdf, tech_type, on='id_session', how='left')\n",
    "\n",
    "# Check the result\n",
    "jointdf.head()"
   ]
  },
  {
   "cell_type": "code",
   "execution_count": 12,
   "metadata": {},
   "outputs": [],
   "source": [
    "jointdf3 = jointdf.copy() #joint df for investigation #3\n",
    "jointdf2 = jointdf.copy() #joint df for investigation #2"
   ]
  },
  {
   "cell_type": "markdown",
   "metadata": {},
   "source": [
    "# The Invesitgation of Device Types and Booking Habits"
   ]
  },
  {
   "cell_type": "code",
   "execution_count": 13,
   "metadata": {},
   "outputs": [
    {
     "data": {
      "image/png": "[encoded data removed]",
      "text/html": [
       "<div style=\"vertical-align: middle;\"><strong>seaborn_cubehelix</strong> </div><div class=\"cmap\"><img alt=\"seaborn_cubehelix colormap\" title=\"seaborn_cubehelix\" style=\"border: 1px solid #555;\" src=\"data:image/png;base64,iVBORw0KGgoAAAANSUhEUgAAAgAAAABACAYAAABsv8+/AAAAIHRFWHRUaXRsZQBzZWFib3JuX2N1YmVoZWxpeCBjb2xvcm1hcCHoIPcAAAAmdEVYdERlc2NyaXB0aW9uAHNlYWJvcm5fY3ViZWhlbGl4IGNvbG9ybWFwGlvH/wAAADF0RVh0QXV0aG9yAE1hdHBsb3RsaWIgdjMuMTAuMCwgaHR0cHM6Ly9tYXRwbG90bGliLm9yZ7OXzgYAAAAzdEVYdFNvZnR3YXJlAE1hdHBsb3RsaWIgdjMuMTAuMCwgaHR0cHM6Ly9tYXRwbG90bGliLm9yZxaz3fIAAAIeSURBVHic7dZBcuMgFEVROvvfU+8iwywFUtUp4QgEsnr6zpmkIpsPcuTK/fP59beVUkor/350tf383lo9Xy/n68f7DsecOq475q32Kdfz7tbN+5/nTPP6+a+vT/OOOcO+T893/jR+zZ3OcX59nnc+72ve3fnKdt6w7NfntF837b9ct7qv8fzj3MV+w/rxHMt1q/tdXB/PNZ6/z6v/t89qv+l6vVvX3lr3euHZfuM+4wM9zVnOu/5DLs/55rrxIP3t9dn5L74I23XTfn3d/vrqAe77LOftz7Ged31f/fwPvyjt4YPdbr9gdX/uxfnG/0/jOe5eP/T3TfdVt5/j2+v6grpdt7ze510/uHfzxnXHuT7O0wCABAIAAAIJAAAIJAAAIJAAAIBAAgAAAgkAAAgkAAAgkAAAgEACAAACCQAACCQAACCQAACAQAIAAAIJAAAIJAAAIJAAAIBAAgAAAgkAAAgkAAAgkAAAgEACAAACCQAACCQAACCQAACAQAIAAAIJAAAIJAAAIJAAAIBAAgAAAgkAAAgkAAAgkAAAgEACAAACCQAACCQAACCQAACAQAIAAAIJAAAIJAAAIJAAAIBAAgAAAgkAAAgkAAAgkAAAgEACAAACCQAACCQAACCQAACAQAIAAAIJAAAIJAAAIJAAAIBAAgAAAgkAAAgkAAAgkAAAgEACAAACCQAACCQAACCQAACAQAIAAAIJAAAI9A1HvpAVt+e+OwAAAABJRU5ErkJggg==\"></div><div style=\"vertical-align: middle; max-width: 514px; display: flex; justify-content: space-between;\"><div style=\"float: left;\"><div title=\"#d7dfc0ff\" style=\"display: inline-block; width: 1em; height: 1em; margin: 0; vertical-align: middle; border: 1px solid #555; background-color: #d7dfc0ff;\"></div> under</div><div style=\"margin: 0 auto; display: inline-block;\">bad <div title=\"#00000000\" style=\"display: inline-block; width: 1em; height: 1em; margin: 0; vertical-align: middle; border: 1px solid #555; background-color: #00000000;\"></div></div><div style=\"float: right;\">over <div title=\"#2c1e3eff\" style=\"display: inline-block; width: 1em; height: 1em; margin: 0; vertical-align: middle; border: 1px solid #555; background-color: #2c1e3eff;\"></div></div></div>"
      ],
      "text/plain": [
       "<matplotlib.colors.ListedColormap at 0x1c1029b8d90>"
      ]
     },
     "execution_count": 13,
     "metadata": {},
     "output_type": "execute_result"
    }
   ],
   "source": [
    "# Extract the hour from the timestamp\n",
    "jointdf['ts_min'] = jointdf['ts_min'].dt.hour\n",
    "\n",
    "sns.cubehelix_palette(start=.5, rot=-.75, as_cmap=True)"
   ]
  },
  {
   "cell_type": "code",
   "execution_count": null,
   "metadata": {},
   "outputs": [],
   "source": [
    "# Set global font\n",
    "plt.rcParams['font.family'] = 'serif'\n",
    "\n",
    "# Create subplots with 1 row and 2 columns (side by side)\n",
    "fig, axes = plt.subplots(1, 2, figsize=(14, 6))\n",
    "\n",
    "# Plot WEBSITE LOGINS BY HOUR on the first subplot\n",
    "sns.histplot(\n",
    "    data=jointdf,\n",
    "    x='ts_min',\n",
    "    hue='Device Type',   # Different colors for iPhone/Desktop\n",
    "    bins=24,\n",
    "    kde=True,         # Add smooth density line\n",
    "    multiple=\"stack\", # Stack bars instead of overlapping\n",
    "    palette=\"Set2\",  # Set color scheme\n",
    "    ax=axes[0]         # Specify the first subplot (axes[0])\n",
    ")\n",
    "\n",
    "# Customize the first subplot\n",
    "axes[0].set_xlabel(\"Hour of the Day\", fontsize=14, labelpad=15)\n",
    "axes[0].set_ylabel(\"Login Count\", fontsize=14, labelpad=15)\n",
    "axes[0].set_title(\"Website Logins by Hour\", fontsize=16, pad=20)\n",
    "\n",
    "# Define custom x-ticks for every 3 hours\n",
    "hour_ticks = list(range(0, 24, 3))\n",
    "hour_labels = [f\"{h % 12 if h % 12 else 12} {'AM' if h < 12 else 'PM'}\" for h in hour_ticks]\n",
    "axes[0].set_xticks(hour_ticks)\n",
    "axes[0].set_xticklabels(hour_labels, fontsize=12)\n",
    "\n",
    "axes[0].grid(axis='y', linestyle='--', alpha=0.7)\n",
    "\n",
    "# Plot WEBSITE BOOKINGS BY HOUR on the second subplot\n",
    "BOOKINGS_df = jointdf[jointdf['sent_booking_request'] == 1].copy()\n",
    "\n",
    "sns.histplot(\n",
    "    data=BOOKINGS_df,\n",
    "    x='ts_min',\n",
    "    hue='Device Type',   # Different colors for iPhone/Desktop\n",
    "    bins=24,\n",
    "    kde=True,         # Add smooth density line\n",
    "    multiple=\"stack\", # Stack bars instead of overlapping\n",
    "    palette=\"Set2\",  # Set color scheme\n",
    "    ax=axes[1]         # Specify the second subplot (axes[1])\n",
    ")\n",
    "\n",
    "# Customize the second subplot\n",
    "axes[1].set_xlabel(\"Hour of the Day\", fontsize=14, labelpad=15)\n",
    "axes[1].set_ylabel(\"Login Count\", fontsize=14, labelpad=15)\n",
    "axes[1].set_title(\"Website Bookings by Hour\", fontsize=16, pad=20)\n",
    "\n",
    "# Define custom x-ticks for every 3 hours\n",
    "axes[1].set_xticks(hour_ticks)\n",
    "axes[1].set_xticklabels(hour_labels, fontsize=12)\n",
    "\n",
    "axes[1].grid(axis='y', linestyle='--', alpha=0.7)\n",
    "\n",
    "# Adjust layout to prevent overlap\n",
    "plt.tight_layout()\n",
    "\n",
    "# Show the plots\n",
    "plt.show()\n"
   ]
  },
  {
   "cell_type": "code",
   "execution_count": null,
   "metadata": {},
   "outputs": [
    {
     "data": {
      "image/png": "[encoded data removed]",
      "text/plain": [
       "<Figure size 640x480 with 1 Axes>"
      ]
     },
     "metadata": {},
     "output_type": "display_data"
    }
   ],
   "source": [
    "# Plot WEBSITE BOOKINGS BY HOUR on the second subplot\n",
    "phone_use_df = jointdf[jointdf['Device Type'] == 'iPhone'].copy()\n",
    "\n",
    "sns.histplot(\n",
    "    data=phone_use_df,\n",
    "    x='ts_min',\n",
    "    hue='sent_booking_request',   # Different colors for iPhone/Desktop\n",
    "    bins=24,\n",
    "    kde=False,         # Add smooth density line\n",
    "    multiple=\"stack\", # Stack bars instead of overlapping\n",
    "    palette=\"Set2\",  # Set color scheme\n",
    ")\n",
    "\n",
    "# Customize the second subplot\n",
    "plt.xlabel(\"Hour of the Day\", fontsize=14, labelpad=15)\n",
    "plt.ylabel(\"Login Count\", fontsize=14, labelpad=15)\n",
    "plt.title(\"Phone Bookings by Hour\", fontsize=16, pad=20)\n",
    "\n",
    "# Rename legend labels\n",
    "new_labels = ['Booking Request Sent', 'No Booking Request']\n",
    "plt.legend(labels=new_labels, fontsize=12, title=None)\n",
    "\n",
    "# Define custom x-ticks for every 3 hours\n",
    "plt.xticks(hour_ticks, hour_labels, fontsize=12)\n",
    "\n",
    "plt.grid(axis='y', linestyle='--', alpha=0.7)\n",
    "\n",
    "# Adjust layout to prevent overlap\n",
    "plt.tight_layout()\n",
    "\n",
    "# Show the plots\n",
    "plt.show()"
   ]
  },
  {
   "cell_type": "markdown",
   "metadata": {},
   "source": [
    "# Booking by Searched or Not"
   ]
  },
  {
   "cell_type": "code",
   "execution_count": null,
   "metadata": {},
   "outputs": [
    {
     "data": {
      "text/plain": [
       "630"
      ]
     },
     "execution_count": 29,
     "metadata": {},
     "output_type": "execute_result"
    }
   ],
   "source": [
    "jointdf2['Age (years)'] = jointdf2['Age (years)'].astype(int)\n",
    "jointdf2['id_visitor'].nunique()"
   ]
  },
  {
   "cell_type": "code",
   "execution_count": null,
   "metadata": {},
   "outputs": [
    {
     "data": {
      "text/plain": [
       "50"
      ]
     },
     "execution_count": 30,
     "metadata": {},
     "output_type": "execute_result"
    }
   ],
   "source": [
    "temp4 = jointdf2[jointdf2['sent_booking_request'] == 1]\n",
    "temp4['id_visitor'].nunique()"
   ]
  },
  {
   "cell_type": "code",
   "execution_count": null,
   "metadata": {},
   "outputs": [
    {
     "name": "stdout",
     "output_type": "stream",
     "text": [
      "Only  7.94 % of Profiles have sent booking requests.\n"
     ]
    }
   ],
   "source": [
    "profiles_who_booked = (50/630)* 100 #caluclating the 50 who booked out of the 630 who didn't.\n",
    "print('Only ', round(profiles_who_booked, 2), '% of Profiles have sent booking requests.')"
   ]
  },
  {
   "cell_type": "code",
   "execution_count": null,
   "metadata": {},
   "outputs": [
    {
     "data": {
      "text/plain": [
       "np.float64(0.17657254059055705)"
      ]
     },
     "execution_count": 32,
     "metadata": {},
     "output_type": "execute_result"
    }
   ],
   "source": [
    "jointdf2['did_search'].corr(jointdf2['sent_booking_request'])"
   ]
  },
  {
   "cell_type": "code",
   "execution_count": null,
   "metadata": {},
   "outputs": [
    {
     "data": {
      "image/png": "[encoded data removed]",
      "text/plain": [
       "<Figure size 640x480 with 2 Axes>"
      ]
     },
     "metadata": {},
     "output_type": "display_data"
    }
   ],
   "source": [
    "# Create a contingency table\n",
    "contingency_table = pd.crosstab(jointdf2['did_search'], jointdf2['sent_booking_request'])\n",
    "\n",
    "#For coloring:\n",
    "from matplotlib.colors import LinearSegmentedColormap\n",
    "custom_cmap = LinearSegmentedColormap.from_list(\"blue_white\", [\"#ffffff\", \"#4682b4\"], N=256)\n",
    "\n",
    "\n",
    "# Plot heatmap\n",
    "sns.heatmap(contingency_table, annot=True, cmap=custom_cmap, fmt=\",.2f\", annot_kws={\"size\": 12, \"color\": \"Black\"})\n",
    "# Labels\n",
    "plt.ylabel(\"Completed a Search\", fontsize=12, fontweight=\"bold\", labelpad=15)\n",
    "plt.xlabel(\"Sent a Booking Request\", fontsize=12, fontweight=\"bold\", labelpad=15)\n",
    "plt.title(\"Searches vs. Booking Requests\", fontsize=14, fontweight=\"bold\", pad=15)\n",
    "\n",
    "# Adjust x-ticks (center horizontally)\n",
    "plt.yticks(ticks=contingency_table.columns, rotation = 45, labels=[\"No Search\", \"Searched\"])\n",
    "\n",
    "# Adjust y-ticks (center vertically)\n",
    "plt.xticks(ticks=contingency_table.index, rotation = 45, labels=[\"No Booking\", \"Requested Booking\"])\n",
    "\n",
    "plt.show()"
   ]
  },
  {
   "cell_type": "markdown",
   "metadata": {},
   "source": [
    "# Age Distribution"
   ]
  },
  {
   "cell_type": "code",
   "execution_count": null,
   "metadata": {},
   "outputs": [
    {
     "data": {
      "text/html": [
       "<div>\n",
       "<style scoped>\n",
       "    .dataframe tbody tr th:only-of-type {\n",
       "        vertical-align: middle;\n",
       "    }\n",
       "\n",
       "    .dataframe tbody tr th {\n",
       "        vertical-align: top;\n",
       "    }\n",
       "\n",
       "    .dataframe thead th {\n",
       "        text-align: right;\n",
       "    }\n",
       "</style>\n",
       "<table border=\"1\" class=\"dataframe\">\n",
       "  <thead>\n",
       "    <tr style=\"text-align: right;\">\n",
       "      <th></th>\n",
       "      <th>id_visitor</th>\n",
       "      <th>Age (years)</th>\n",
       "      <th>id_session</th>\n",
       "      <th>dim_session_number</th>\n",
       "      <th>dim_user_agent</th>\n",
       "      <th>dim_device_app_combo</th>\n",
       "      <th>ds</th>\n",
       "      <th>ts_min</th>\n",
       "      <th>ts_max</th>\n",
       "      <th>did_search</th>\n",
       "      <th>sent_message</th>\n",
       "      <th>sent_booking_request</th>\n",
       "      <th>Booking Requests Per ID</th>\n",
       "      <th>Site Visit</th>\n",
       "      <th>Average Site Visit</th>\n",
       "      <th>Device Type</th>\n",
       "    </tr>\n",
       "  </thead>\n",
       "  <tbody>\n",
       "    <tr>\n",
       "      <th>0</th>\n",
       "      <td>ed1329a6-064d-47e9-93bc-93f5a50822df</td>\n",
       "      <td>22.87052</td>\n",
       "      <td>a8dfb8ed5aa79e00ff14b2da297c9778</td>\n",
       "      <td>83</td>\n",
       "      <td>Airbnb/6.0 iPhone/8.1.2</td>\n",
       "      <td>iPhone - iOS</td>\n",
       "      <td>2015-02-16</td>\n",
       "      <td>2015-02-16 21:50:41</td>\n",
       "      <td>2015-02-16 22:13:42</td>\n",
       "      <td>0</td>\n",
       "      <td>0</td>\n",
       "      <td>0</td>\n",
       "      <td>15</td>\n",
       "      <td>1381.0</td>\n",
       "      <td>996.741573</td>\n",
       "      <td>iPhone</td>\n",
       "    </tr>\n",
       "    <tr>\n",
       "      <th>1</th>\n",
       "      <td>ed1329a6-064d-47e9-93bc-93f5a50822df</td>\n",
       "      <td>22.87052</td>\n",
       "      <td>950277daef16f86dc2c05d2b212eea81</td>\n",
       "      <td>84</td>\n",
       "      <td>Mozilla/5.0 (Windows NT 6.1; WOW64) AppleWebKi...</td>\n",
       "      <td>Desktop - Chrome</td>\n",
       "      <td>2015-02-18</td>\n",
       "      <td>2015-02-18 11:57:15</td>\n",
       "      <td>2015-02-18 12:12:48</td>\n",
       "      <td>0</td>\n",
       "      <td>0</td>\n",
       "      <td>0</td>\n",
       "      <td>15</td>\n",
       "      <td>933.0</td>\n",
       "      <td>996.741573</td>\n",
       "      <td>Desktop</td>\n",
       "    </tr>\n",
       "    <tr>\n",
       "      <th>2</th>\n",
       "      <td>ed1329a6-064d-47e9-93bc-93f5a50822df</td>\n",
       "      <td>22.87052</td>\n",
       "      <td>ee4e2f99dd0c0bef2d40e4bdf880c862</td>\n",
       "      <td>85</td>\n",
       "      <td>Mozilla/5.0 (Windows NT 6.1; WOW64) AppleWebKi...</td>\n",
       "      <td>Desktop - Chrome</td>\n",
       "      <td>2015-02-18</td>\n",
       "      <td>2015-02-18 13:02:13</td>\n",
       "      <td>2015-02-18 13:05:36</td>\n",
       "      <td>0</td>\n",
       "      <td>0</td>\n",
       "      <td>0</td>\n",
       "      <td>15</td>\n",
       "      <td>203.0</td>\n",
       "      <td>996.741573</td>\n",
       "      <td>Desktop</td>\n",
       "    </tr>\n",
       "    <tr>\n",
       "      <th>3</th>\n",
       "      <td>ed1329a6-064d-47e9-93bc-93f5a50822df</td>\n",
       "      <td>22.87052</td>\n",
       "      <td>59fbde7b5d35403116c461fa7fc1ab6e</td>\n",
       "      <td>86</td>\n",
       "      <td>Mozilla/5.0 (Windows NT 6.1; WOW64) AppleWebKi...</td>\n",
       "      <td>Desktop - Chrome</td>\n",
       "      <td>2015-02-18</td>\n",
       "      <td>2015-02-18 14:18:17</td>\n",
       "      <td>2015-02-18 14:28:47</td>\n",
       "      <td>0</td>\n",
       "      <td>0</td>\n",
       "      <td>0</td>\n",
       "      <td>15</td>\n",
       "      <td>630.0</td>\n",
       "      <td>996.741573</td>\n",
       "      <td>Desktop</td>\n",
       "    </tr>\n",
       "    <tr>\n",
       "      <th>4</th>\n",
       "      <td>ed1329a6-064d-47e9-93bc-93f5a50822df</td>\n",
       "      <td>22.87052</td>\n",
       "      <td>ec8972a3c7256ea4dcba61ee2bd9e3a8</td>\n",
       "      <td>87</td>\n",
       "      <td>Mozilla/5.0 (Windows NT 6.1; WOW64) AppleWebKi...</td>\n",
       "      <td>Desktop - Chrome</td>\n",
       "      <td>2015-02-19</td>\n",
       "      <td>2015-02-19 12:24:57</td>\n",
       "      <td>2015-02-19 12:24:59</td>\n",
       "      <td>0</td>\n",
       "      <td>0</td>\n",
       "      <td>0</td>\n",
       "      <td>15</td>\n",
       "      <td>2.0</td>\n",
       "      <td>996.741573</td>\n",
       "      <td>Desktop</td>\n",
       "    </tr>\n",
       "  </tbody>\n",
       "</table>\n",
       "</div>"
      ],
      "text/plain": [
       "                             id_visitor  Age (years)  \\\n",
       "0  ed1329a6-064d-47e9-93bc-93f5a50822df     22.87052   \n",
       "1  ed1329a6-064d-47e9-93bc-93f5a50822df     22.87052   \n",
       "2  ed1329a6-064d-47e9-93bc-93f5a50822df     22.87052   \n",
       "3  ed1329a6-064d-47e9-93bc-93f5a50822df     22.87052   \n",
       "4  ed1329a6-064d-47e9-93bc-93f5a50822df     22.87052   \n",
       "\n",
       "                         id_session  dim_session_number  \\\n",
       "0  a8dfb8ed5aa79e00ff14b2da297c9778                  83   \n",
       "1  950277daef16f86dc2c05d2b212eea81                  84   \n",
       "2  ee4e2f99dd0c0bef2d40e4bdf880c862                  85   \n",
       "3  59fbde7b5d35403116c461fa7fc1ab6e                  86   \n",
       "4  ec8972a3c7256ea4dcba61ee2bd9e3a8                  87   \n",
       "\n",
       "                                      dim_user_agent dim_device_app_combo  \\\n",
       "0                            Airbnb/6.0 iPhone/8.1.2         iPhone - iOS   \n",
       "1  Mozilla/5.0 (Windows NT 6.1; WOW64) AppleWebKi...     Desktop - Chrome   \n",
       "2  Mozilla/5.0 (Windows NT 6.1; WOW64) AppleWebKi...     Desktop - Chrome   \n",
       "3  Mozilla/5.0 (Windows NT 6.1; WOW64) AppleWebKi...     Desktop - Chrome   \n",
       "4  Mozilla/5.0 (Windows NT 6.1; WOW64) AppleWebKi...     Desktop - Chrome   \n",
       "\n",
       "           ds              ts_min              ts_max  did_search  \\\n",
       "0  2015-02-16 2015-02-16 21:50:41 2015-02-16 22:13:42           0   \n",
       "1  2015-02-18 2015-02-18 11:57:15 2015-02-18 12:12:48           0   \n",
       "2  2015-02-18 2015-02-18 13:02:13 2015-02-18 13:05:36           0   \n",
       "3  2015-02-18 2015-02-18 14:18:17 2015-02-18 14:28:47           0   \n",
       "4  2015-02-19 2015-02-19 12:24:57 2015-02-19 12:24:59           0   \n",
       "\n",
       "   sent_message  sent_booking_request  Booking Requests Per ID  Site Visit  \\\n",
       "0             0                     0                       15      1381.0   \n",
       "1             0                     0                       15       933.0   \n",
       "2             0                     0                       15       203.0   \n",
       "3             0                     0                       15       630.0   \n",
       "4             0                     0                       15         2.0   \n",
       "\n",
       "   Average Site Visit Device Type  \n",
       "0          996.741573      iPhone  \n",
       "1          996.741573     Desktop  \n",
       "2          996.741573     Desktop  \n",
       "3          996.741573     Desktop  \n",
       "4          996.741573     Desktop  "
      ]
     },
     "execution_count": 34,
     "metadata": {},
     "output_type": "execute_result"
    }
   ],
   "source": [
    "jointdf3.head()\n"
   ]
  },
  {
   "cell_type": "code",
   "execution_count": null,
   "metadata": {},
   "outputs": [
    {
     "data": {
      "image/png": "[encoded data removed]",
      "text/plain": [
       "<Figure size 800x600 with 1 Axes>"
      ]
     },
     "metadata": {},
     "output_type": "display_data"
    }
   ],
   "source": [
    "# Create the age groups with ordered categories\n",
    "bins = [18, 26, 30, 35, 40, 45, float('inf')]\n",
    "labels = ['18-26 Years', '27-30 Years', '31-35 Years', '35-40 Years', '41-45 Years', '45+ Years']\n",
    "jointdf3['Age Group'] = pd.cut(jointdf3['Age (years)'], bins=bins, labels=labels, right=False)\n",
    "\n",
    "# Make sure the 'Age Group' column is treated as an ordered categorical variable\n",
    "age_group_order = labels = ['18-26 Years', '27-30 Years', '31-35 Years', '35-40 Years', '41-45 Years', '45+ Years']\n",
    "jointdf3['Age Group'] = pd.Categorical(jointdf3['Age Group'], categories=age_group_order, ordered=True)\n",
    "\n",
    "# Count the occurrences of each age group\n",
    "age_group_counts = jointdf3['Age Group'].value_counts()\n",
    "\n",
    "# Set Seaborn's \"BuGn\" color palette\n",
    "colors = sns.color_palette(\"BuGn\", len(age_group_counts))\n",
    "\n",
    "# Plot the pie chart with no decimal places and sorted order\n",
    "plt.figure(figsize=(8, 6))\n",
    "age_group_counts.sort_index().plot(kind='pie', autopct='%1.0f%%', colors=colors, startangle=90, wedgeprops={'edgecolor': 'black'})\n",
    "plt.title('Distribution of Age Groups')\n",
    "plt.ylabel('')  # Remove the ylabel for a cleaner look\n",
    "plt.show()"
   ]
  }
 ],
 "metadata": {
  "kernelspec": {
   "display_name": "Python 3",
   "language": "python",
   "name": "python3"
  },
  "language_info": {
   "codemirror_mode": {
    "name": "ipython",
    "version": 3
   },
   "file_extension": ".py",
   "mimetype": "text/x-python",
   "name": "python",
   "nbconvert_exporter": "python",
   "pygments_lexer": "ipython3",
   "version": "3.11.9"
  }
 },
 "nbformat": 4,
 "nbformat_minor": 2
}
